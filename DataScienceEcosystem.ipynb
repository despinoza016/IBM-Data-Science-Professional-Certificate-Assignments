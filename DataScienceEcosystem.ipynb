{
 "cells": [
  {
   "cell_type": "markdown",
   "id": "939871b5-1e68-49d4-8304-1fd6aac597ac",
   "metadata": {},
   "source": [
    "# Data Science Tools and Ecosystem"
   ]
  },
  {
   "cell_type": "markdown",
   "id": "283a7017-0fc6-479d-a887-eefd3cde31a1",
   "metadata": {},
   "source": [
    "**Objectives:**\n",
    "- List popular languages for Data Science\n",
    "- List commonly used libraries for Data Science\n",
    "- List popular Data Science Tools\n",
    "- Examples of evaluating arithmetic expressions in Python"
   ]
  },
  {
   "cell_type": "markdown",
   "id": "e4c692a6-c555-49f7-a034-56b7c7722d83",
   "metadata": {},
   "source": [
    "In this notebook, Data Science Tools and Ecosystem are summarized."
   ]
  },
  {
   "cell_type": "markdown",
   "id": "8347721b-6f64-47f9-8fc8-bc2165a3b9ba",
   "metadata": {},
   "source": [
    "Some of the popular languages that Data Scientists use are:\n",
    "1. Python\n",
    "2. R (programming language)\n",
    "3. Julia\n",
    "4. SQL"
   ]
  },
  {
   "cell_type": "markdown",
   "id": "ba033b83-4db1-48f4-89b6-ffa753d7f4e3",
   "metadata": {},
   "source": [
    "Some of the commonly used libraries used by Data Scientists include:\n",
    "1. Scikit-learn\n",
    "2. Tensorflow\n",
    "3. PyTorch\n",
    "4. Pandas\n",
    "5. Caret"
   ]
  },
  {
   "cell_type": "markdown",
   "id": "e4b7789f-0f23-4144-bc62-ec75c2878cce",
   "metadata": {},
   "source": [
    "|Data Science Tools|\n",
    "|------------------|\n",
    "|Jupyter Notebooks |\n",
    "|Google Colab|\n",
    "|R Studio|\n"
   ]
  },
  {
   "cell_type": "markdown",
   "id": "0fed6f78-43cd-43bc-910f-d9bf06f3d0ce",
   "metadata": {},
   "source": [
    "### Below are a few examples of evaluating arithmetic expressions in Python."
   ]
  },
  {
   "cell_type": "markdown",
   "id": "726916ee-8ed0-49ba-b5a0-f551a4045993",
   "metadata": {},
   "source": [
    "This a simple arithmetic expression to mutiply then add integers"
   ]
  },
  {
   "cell_type": "code",
   "execution_count": 14,
   "id": "53c5f1df-2da3-4134-a1c7-c7893ea28c4d",
   "metadata": {},
   "outputs": [
    {
     "data": {
      "text/plain": [
       "17"
      ]
     },
     "execution_count": 14,
     "metadata": {},
     "output_type": "execute_result"
    }
   ],
   "source": [
    "(3*4)+5"
   ]
  },
  {
   "cell_type": "markdown",
   "id": "d9eb7aa7-2d1c-4a82-a428-338ba02fd3f1",
   "metadata": {},
   "source": [
    "This will convert 200 minutes to hours by diving by 60"
   ]
  },
  {
   "cell_type": "code",
   "execution_count": 21,
   "id": "04514e2a-20db-49d6-8600-763a5d2fb146",
   "metadata": {},
   "outputs": [
    {
     "name": "stdout",
     "output_type": "stream",
     "text": [
      "200 minutes equal 3.33 hours\n"
     ]
    }
   ],
   "source": [
    "min = 200\n",
    "min_to_hours = round(min/60,2)\n",
    "print(\"200 minutes equal\", min_to_hours, \"hours\")"
   ]
  },
  {
   "cell_type": "markdown",
   "id": "817e562e-1a6f-4317-91f7-765e12e3d4ca",
   "metadata": {},
   "source": [
    "## Author\n",
    "Daniel Espinoza"
   ]
  },
  {
   "cell_type": "code",
   "execution_count": null,
   "id": "049e54b7-14e0-44dc-94f3-3256b54c0620",
   "metadata": {},
   "outputs": [],
   "source": []
  }
 ],
 "metadata": {
  "kernelspec": {
   "display_name": "Python [conda env:base] *",
   "language": "python",
   "name": "conda-base-py"
  },
  "language_info": {
   "codemirror_mode": {
    "name": "ipython",
    "version": 3
   },
   "file_extension": ".py",
   "mimetype": "text/x-python",
   "name": "python",
   "nbconvert_exporter": "python",
   "pygments_lexer": "ipython3",
   "version": "3.11.7"
  }
 },
 "nbformat": 4,
 "nbformat_minor": 5
}
